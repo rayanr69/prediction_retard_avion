{
 "cells": [
  {
   "cell_type": "markdown",
   "id": "6299d194",
   "metadata": {},
   "source": [
    "# Préparation\n"
   ]
  },
  {
   "cell_type": "code",
   "execution_count": 1,
   "id": "0fa42cb5",
   "metadata": {},
   "outputs": [
    {
     "name": "stderr",
     "output_type": "stream",
     "text": [
      "/tmp/ipykernel_44801/2856431602.py:11: DtypeWarning: Columns (48) have mixed types. Specify dtype option on import or set low_memory=False.\n",
      "  d3 = pd.read_csv('2016_03.csv')\n",
      "/tmp/ipykernel_44801/2856431602.py:12: DtypeWarning: Columns (0,1,3,4,10,11,13,19,20,21,22,30,36,41,48) have mixed types. Specify dtype option on import or set low_memory=False.\n",
      "  d4 = pd.read_csv('2016_04.csv', on_bad_lines='skip')\n",
      "/tmp/ipykernel_44801/2856431602.py:13: DtypeWarning: Columns (48) have mixed types. Specify dtype option on import or set low_memory=False.\n",
      "  d5 = pd.read_csv('2016_05.csv')\n",
      "/tmp/ipykernel_44801/2856431602.py:14: DtypeWarning: Columns (48) have mixed types. Specify dtype option on import or set low_memory=False.\n",
      "  d6 = pd.read_csv('2016_06.csv')\n",
      "/tmp/ipykernel_44801/2856431602.py:17: DtypeWarning: Columns (48) have mixed types. Specify dtype option on import or set low_memory=False.\n",
      "  d9 = pd.read_csv('2016_09.csv')\n",
      "/tmp/ipykernel_44801/2856431602.py:18: DtypeWarning: Columns (48) have mixed types. Specify dtype option on import or set low_memory=False.\n",
      "  d10 = pd.read_csv('2016_10.csv')\n",
      "/tmp/ipykernel_44801/2856431602.py:19: DtypeWarning: Columns (48) have mixed types. Specify dtype option on import or set low_memory=False.\n",
      "  d11 = pd.read_csv('2016_11.csv')\n",
      "/tmp/ipykernel_44801/2856431602.py:20: DtypeWarning: Columns (48) have mixed types. Specify dtype option on import or set low_memory=False.\n",
      "  d12 = pd.read_csv('2016_12.csv')\n"
     ]
    }
   ],
   "source": [
    "import pandas as pd\n",
    "import numpy as np\n",
    "from pandas import pivot_table\n",
    "import datetime as dt\n",
    "\n",
    "\n",
    "\n",
    "\n",
    "d1 = pd.read_csv('2016_01.csv')\n",
    "d2 = pd.read_csv('2016_02.csv')\n",
    "d3 = pd.read_csv('2016_03.csv')\n",
    "d4 = pd.read_csv('2016_04.csv', on_bad_lines='skip')\n",
    "d5 = pd.read_csv('2016_05.csv')\n",
    "d6 = pd.read_csv('2016_06.csv')\n",
    "d7 = pd.read_csv('2016_07.csv')\n",
    "d8 = pd.read_csv('2016_08.csv')\n",
    "d9 = pd.read_csv('2016_09.csv')\n",
    "d10 = pd.read_csv('2016_10.csv')\n",
    "d11 = pd.read_csv('2016_11.csv')\n",
    "d12 = pd.read_csv('2016_12.csv')"
   ]
  },
  {
   "cell_type": "code",
   "execution_count": null,
   "id": "a999bf23",
   "metadata": {},
   "outputs": [
    {
     "name": "stdout",
     "output_type": "stream",
     "text": [
      "<class 'pandas.core.frame.DataFrame'>\n",
      "RangeIndex: 5635978 entries, 0 to 5635977\n",
      "Data columns (total 65 columns):\n",
      " #   Column                 Dtype  \n",
      "---  ------                 -----  \n",
      " 0   YEAR                   object \n",
      " 1   QUARTER                object \n",
      " 2   MONTH                  int64  \n",
      " 3   DAY_OF_MONTH           object \n",
      " 4   DAY_OF_WEEK            object \n",
      " 5   FL_DATE                object \n",
      " 6   UNIQUE_CARRIER         object \n",
      " 7   AIRLINE_ID             int64  \n",
      " 8   CARRIER                object \n",
      " 9   TAIL_NUM               object \n",
      " 10  FL_NUM                 object \n",
      " 11  ORIGIN_AIRPORT_ID      object \n",
      " 12  ORIGIN_AIRPORT_SEQ_ID  int64  \n",
      " 13  ORIGIN_CITY_MARKET_ID  object \n",
      " 14  ORIGIN                 object \n",
      " 15  ORIGIN_CITY_NAME       object \n",
      " 16  ORIGIN_STATE_ABR       object \n",
      " 17  ORIGIN_STATE_FIPS      float64\n",
      " 18  ORIGIN_STATE_NM        object \n",
      " 19  ORIGIN_WAC             object \n",
      " 20  DEST_AIRPORT_ID        object \n",
      " 21  DEST_AIRPORT_SEQ_ID    object \n",
      " 22  DEST_CITY_MARKET_ID    object \n",
      " 23  DEST                   object \n",
      " 24  DEST_CITY_NAME         object \n",
      " 25  DEST_STATE_ABR         object \n",
      " 26  DEST_STATE_FIPS        float64\n",
      " 27  DEST_STATE_NM          object \n",
      " 28  DEST_WAC               float64\n",
      " 29  CRS_DEP_TIME           float64\n",
      " 30  DEP_TIME               object \n",
      " 31  DEP_DELAY              float64\n",
      " 32  DEP_DELAY_NEW          float64\n",
      " 33  DEP_DEL15              float64\n",
      " 34  DEP_DELAY_GROUP        float64\n",
      " 35  DEP_TIME_BLK           object \n",
      " 36  TAXI_OUT               object \n",
      " 37  WHEELS_OFF             float64\n",
      " 38  WHEELS_ON              float64\n",
      " 39  TAXI_IN                float64\n",
      " 40  CRS_ARR_TIME           float64\n",
      " 41  ARR_TIME               object \n",
      " 42  ARR_DELAY              float64\n",
      " 43  ARR_DELAY_NEW          float64\n",
      " 44  ARR_DEL15              float64\n",
      " 45  ARR_DELAY_GROUP        float64\n",
      " 46  ARR_TIME_BLK           object \n",
      " 47  CANCELLED              float64\n",
      " 48  CANCELLATION_CODE      object \n",
      " 49  DIVERTED               float64\n",
      " 50  CRS_ELAPSED_TIME       float64\n",
      " 51  ACTUAL_ELAPSED_TIME    float64\n",
      " 52  AIR_TIME               float64\n",
      " 53  FLIGHTS                float64\n",
      " 54  DISTANCE               float64\n",
      " 55  DISTANCE_GROUP         float64\n",
      " 56  CARRIER_DELAY          float64\n",
      " 57  WEATHER_DELAY          float64\n",
      " 58  NAS_DELAY              float64\n",
      " 59  SECURITY_DELAY         float64\n",
      " 60  LATE_AIRCRAFT_DELAY    float64\n",
      " 61  FIRST_DEP_TIME         float64\n",
      " 62  TOTAL_ADD_GTIME        float64\n",
      " 63  LONGEST_ADD_GTIME      float64\n",
      " 64  Unnamed: 64            float64\n",
      "dtypes: float64(33), int64(3), object(29)\n",
      "memory usage: 2.7+ GB\n"
     ]
    }
   ],
   "source": [
    "dfs = [d1, d2, d3, d4, d5, d6, d7, d8, d9, d10, d11, d12]\n",
    "full_df = pd.concat(dfs, ignore_index=True)\n",
    "full_df.info()\n",
    "full_df.head()\n",
    "full_df.to_csv('flights_2016.csv', index=False)"
   ]
  },
  {
   "cell_type": "code",
   "execution_count": null,
   "id": "bc27cac1",
   "metadata": {},
   "outputs": [],
   "source": [
    "full_df.head()"
   ]
  },
  {
   "cell_type": "code",
   "execution_count": null,
   "id": "d3e09e65",
   "metadata": {},
   "outputs": [],
   "source": [
    "full_df.describe(include='all').T"
   ]
  },
  {
   "cell_type": "code",
   "execution_count": null,
   "id": "cf833f7f",
   "metadata": {},
   "outputs": [],
   "source": [
    "df = full_df[['MONTH', 'DAY_OF_MONTH', 'DAY_OF_WEEK', 'UNIQUE_CARRIER', 'DEP_TIME', 'ARR_TIME', 'ORIGIN', 'DEST', 'DISTANCE', 'CRS_DEP_TIME', 'CRS_ARR_TIME', 'CRS_ELAPSED_TIME', 'ARR_DELAY', 'ARR_DELAY_NEW']]\n",
    "#choix des colonnes"
   ]
  },
  {
   "cell_type": "code",
   "execution_count": null,
   "id": "71df6413",
   "metadata": {},
   "outputs": [],
   "source": [
    "df.head()"
   ]
  },
  {
   "cell_type": "code",
   "execution_count": null,
   "id": "7ca6a4af",
   "metadata": {},
   "outputs": [],
   "source": [
    "df.isnull().sum()"
   ]
  },
  {
   "cell_type": "code",
   "execution_count": null,
   "id": "91ea6322",
   "metadata": {},
   "outputs": [],
   "source": [
    "df.info()"
   ]
  },
  {
   "cell_type": "code",
   "execution_count": null,
   "id": "0ded0ef8",
   "metadata": {},
   "outputs": [],
   "source": [
    "print(df['DAY_OF_WEEK'].value_counts())"
   ]
  },
  {
   "cell_type": "markdown",
   "id": "abebe3f5",
   "metadata": {},
   "source": [
    "# Visualisation"
   ]
  },
  {
   "cell_type": "code",
   "execution_count": null,
   "id": "da8a05a4",
   "metadata": {},
   "outputs": [],
   "source": [
    "import matplotlib.pyplot as plt\n",
    "import seaborn as sns"
   ]
  },
  {
   "cell_type": "code",
   "execution_count": null,
   "id": "9f8cfbaf",
   "metadata": {},
   "outputs": [],
   "source": [
    "fig, ax = plt.subplots(figsize=(8, 5))\n",
    "\n",
    "ax.hist(df['ARR_DELAY'], bins=50, range=(-50, 100))\n",
    "line1 = ax.axvline(x=df.ARR_DELAY.mean(), color='r')\n",
    "line2 = ax.axvline(x=df.ARR_DELAY.median(), color='y')\n",
    "ax.set_title(\"Distribution du retard\", size=18)\n",
    "ax.set_xlabel(\"Retard (mn)\", size=15)\n",
    "ax.tick_params(labelsize=15)\n",
    "\n",
    "ax.legend(handles=(line1, line2), labels=('Moyenne', 'Médiane'), fontsize=20, loc='center right')\n",
    "plt.show()"
   ]
  },
  {
   "cell_type": "code",
   "execution_count": null,
   "id": "20d61215",
   "metadata": {},
   "outputs": [],
   "source": [
    "import numpy as np\n",
    "\n",
    "fig, ax = plt.subplots(figsize=(9, 7))\n",
    "\n",
    "n, bins, patches = ax.hist(df['ARR_DELAY'], bins=50, range=(-50, 100), density=True)\n",
    "\n",
    "colors = plt.cm.Reds(np.linspace(0, 1, len(patches)))\n",
    "\n",
    "ax.bar(bins[:-1], n, width=np.diff(bins), color=colors)\n",
    "\n",
    "line1 = ax.axvline(x=df.ARR_DELAY.mean(), color='r')\n",
    "line2 = ax.axvline(x=df.ARR_DELAY.median(), color='y')\n",
    "ax.set_title(\"Distribution du retard\", size=18)\n",
    "ax.set_xlabel(\"Retard (mn)\", size=15)\n",
    "ax.set_ylabel(\"Nombre de vols\", size=15)\n",
    "ax.tick_params(labelsize=15)\n",
    "#ax.set_xlim(-50, 100)\n",
    "#ax.set_ylim(0, 0.04)\n",
    "\n",
    "ax.legend(handles=(line1, line2), labels=('Moyenne', 'Médiane'), fontsize=20, loc='center right')\n"
   ]
  },
  {
   "cell_type": "code",
   "execution_count": null,
   "id": "e5a727e8",
   "metadata": {},
   "outputs": [],
   "source": [
    "df.groupby('MONTH')['ARR_DELAY_NEW'].mean().plot(kind='bar');"
   ]
  },
  {
   "cell_type": "code",
   "execution_count": null,
   "id": "b05bcab7",
   "metadata": {},
   "outputs": [],
   "source": [
    "df.groupby('DAY_OF_WEEK')['ARR_DELAY_NEW'].mean().plot(kind='bar');"
   ]
  },
  {
   "cell_type": "code",
   "execution_count": null,
   "id": "9415d05f",
   "metadata": {},
   "outputs": [],
   "source": [
    "plt.figure(figsize=(10,10))\n",
    "sns.countplot(\"UNIQUE_CARRIER\", data=df)"
   ]
  },
  {
   "cell_type": "code",
   "execution_count": null,
   "id": "a87eb2c7",
   "metadata": {},
   "outputs": [],
   "source": [
    "plt.figure(figsize=(10,10))\n",
    "sns.boxplot(x=\"UNIQUE_CARRIER\", y=\"MONTH\", data=df)"
   ]
  },
  {
   "cell_type": "code",
   "execution_count": null,
   "id": "f363ebc0",
   "metadata": {},
   "outputs": [],
   "source": [
    "table = pivot_table(df[['MONTH', 'DAY_OF_MONTH', 'UNIQUE_CARRIER']], \n",
    "                    values=None, index=['MONTH', 'DAY_OF_MONTH'], columns=['UNIQUE_CARRIER'], aggfunc=np.count_nonzero)\n",
    "table.plot(figsize=(20, 10));"
   ]
  },
  {
   "cell_type": "code",
   "execution_count": null,
   "id": "09797bd9",
   "metadata": {},
   "outputs": [],
   "source": [
    "ax = (df.sort_values(by=['MONTH', 'DAY_OF_MONTH'], axis=0)\n",
    "      .groupby(['MONTH', 'DAY_OF_MONTH'])['ARR_DELAY_NEW'].mean()\n",
    "      .plot(figsize=(20, 8))\n",
    "     )\n",
    "\n",
    "ymin, ymax = ax.get_ylim()\n",
    "ax.set_ylim([ymin,ymax])\n",
    "\n",
    "holidays = np.array(['2016-01-01', '2016-01-18', '2016-02-15', '2016-05-30', '2016-07-04', '2016-09-05', '2016-10-10', '2016-11-11', '2016-11-24', '2016-12-25'],\n",
    "                    dtype='datetime64[D]')\n",
    "dates = [date.timetuple().tm_yday for date in holidays.tolist()]\n",
    "ax.vlines(x=dates, ymin=ymin, ymax=ymax, color='r', linestyles='dotted');\n"
   ]
  },
  {
   "cell_type": "markdown",
   "id": "257f4863",
   "metadata": {},
   "source": [
    "# Modéle"
   ]
  },
  {
   "cell_type": "code",
   "execution_count": null,
   "id": "3720c74e",
   "metadata": {},
   "outputs": [],
   "source": [
    "import numpy as np\n",
    "import pandas as pd\n",
    "import matplotlib.pyplot as plt\n",
    "import seaborn as sns\n",
    "\n",
    "from sklearn.model_selection import train_test_split\n",
    "from sklearn.model_selection import cross_validate\n",
    "from sklearn.model_selection import cross_val_score\n",
    "from sklearn.model_selection import cross_val_predict\n",
    "\n",
    "from sklearn.linear_model import LogisticRegression\n",
    "from sklearn.dummy import DummyClassifier\n",
    "from sklearn.neighbors import KNeighborsClassifier\n",
    "\n",
    "from sklearn.metrics import classification_report\n",
    "\n",
    "from sklearn.metrics import accuracy_score, precision_score, recall_score, f1_score, \\\n",
    "    confusion_matrix, classification_report\n",
    "\n",
    "from sklearn.metrics import roc_auc_score, RocCurveDisplay, roc_curve\n",
    "from sklearn.metrics import average_precision_score\n",
    "from sklearn.metrics import precision_recall_curve,precision_recall_curve\n",
    "\n",
    "from sklearn.model_selection import learning_curve\n",
    "\n",
    "from statsmodels.stats.outliers_influence import variance_inflation_factor as vif\n",
    "\n",
    "from sklearn.inspection import permutation_importance\n",
    "from sklearn.model_selection import train_test_split\n",
    "from sklearn.preprocessing import StandardScaler, OneHotEncoder\n",
    "from sklearn.compose import ColumnTransformer\n",
    "from sklearn.linear_model import LogisticRegression\n",
    "from sklearn.metrics import classification_report, accuracy_score\n",
    "from sklearn.impute import SimpleImputer"
   ]
  },
  {
   "cell_type": "code",
   "execution_count": null,
   "id": "bf6bd433",
   "metadata": {},
   "outputs": [],
   "source": [
    "df['ARR_DELAY_NEW'] = df['ARR_DELAY_NEW'].apply(lambda x: 1 if x > 0 else 0)"
   ]
  },
  {
   "cell_type": "code",
   "execution_count": null,
   "id": "a698d2e8",
   "metadata": {},
   "outputs": [],
   "source": [
    "X = df[['MONTH', 'DAY_OF_MONTH', 'DAY_OF_WEEK', 'UNIQUE_CARRIER', 'ORIGIN', 'DEST', 'DISTANCE', 'CRS_DEP_TIME', 'CRS_ARR_TIME', 'CRS_ELAPSED_TIME']]\n",
    "y = df['ARR_DELAY_NEW']"
   ]
  },
  {
   "cell_type": "code",
   "execution_count": null,
   "id": "34938ec6",
   "metadata": {},
   "outputs": [],
   "source": [
    "X_train, X_test, y_train, y_test = train_test_split(X, y, test_size=0.3, random_state=101)"
   ]
  },
  {
   "cell_type": "code",
   "execution_count": null,
   "id": "dd4adcd9",
   "metadata": {},
   "outputs": [],
   "source": [
    "num_cols = ['MONTH', 'DAY_OF_MONTH', 'DAY_OF_WEEK', 'DISTANCE', 'CRS_DEP_TIME', 'CRS_ARR_TIME', 'CRS_ELAPSED_TIME']\n",
    "cat_cols = ['UNIQUE_CARRIER', 'ORIGIN', 'DEST']"
   ]
  },
  {
   "cell_type": "code",
   "execution_count": null,
   "id": "d2422661",
   "metadata": {},
   "outputs": [],
   "source": [
    "X_train[num_cols] = X_train[num_cols].apply(pd.to_numeric, errors='coerce')\n",
    "X_test[num_cols] = X_test[num_cols].apply(pd.to_numeric, errors='coerce')"
   ]
  },
  {
   "cell_type": "code",
   "execution_count": null,
   "id": "90c38a82",
   "metadata": {},
   "outputs": [],
   "source": [
    "num_imputer = SimpleImputer(strategy='mean')\n",
    "cat_imputer = SimpleImputer(strategy='most_frequent')"
   ]
  },
  {
   "cell_type": "code",
   "execution_count": null,
   "id": "55220587",
   "metadata": {},
   "outputs": [],
   "source": [
    "X_train[num_cols] = num_imputer.fit_transform(X_train[num_cols])\n",
    "X_train[cat_cols] = cat_imputer.fit_transform(X_train[cat_cols])\n",
    "\n",
    "X_test[num_cols] = num_imputer.transform(X_test[num_cols])\n",
    "X_test[cat_cols] = cat_imputer.transform(X_test[cat_cols])"
   ]
  },
  {
   "cell_type": "code",
   "execution_count": null,
   "id": "1fc84dfb",
   "metadata": {},
   "outputs": [],
   "source": [
    "preprocessor = ColumnTransformer(\n",
    "    transformers=[\n",
    "        ('num', StandardScaler(), num_cols),\n",
    "        ('cat', OneHotEncoder(handle_unknown='ignore'), cat_cols)\n",
    "    ])"
   ]
  },
  {
   "cell_type": "code",
   "execution_count": null,
   "id": "0e2cfa84",
   "metadata": {},
   "outputs": [],
   "source": [
    "X_train = preprocessor.fit_transform(X_train)\n",
    "X_test = preprocessor.transform(X_test)"
   ]
  },
  {
   "cell_type": "code",
   "execution_count": null,
   "id": "9fb70a12",
   "metadata": {},
   "outputs": [],
   "source": [
    "print(\"X_train sum:\", X_train.sum())"
   ]
  },
  {
   "cell_type": "code",
   "execution_count": null,
   "id": "c4feb376",
   "metadata": {},
   "outputs": [],
   "source": [
    "model = LogisticRegression(max_iter=1000)\n",
    "model.fit(X_train, y_train)"
   ]
  },
  {
   "cell_type": "code",
   "execution_count": null,
   "id": "54bd187e",
   "metadata": {},
   "outputs": [],
   "source": [
    "y_pred = model.predict(X_test)"
   ]
  },
  {
   "cell_type": "code",
   "execution_count": null,
   "id": "b4780538",
   "metadata": {},
   "outputs": [],
   "source": [
    "print(\"Accuracy:\", accuracy_score(y_test, y_pred))\n",
    "print(\"Classification Report:\\n\", classification_report(y_test, y_pred))"
   ]
  },
  {
   "cell_type": "code",
   "execution_count": null,
   "id": "cab9a741",
   "metadata": {},
   "outputs": [],
   "source": [
    "import joblib\n",
    "from sklearn.linear_model import LogisticRegression\n",
    "from sklearn.model_selection import train_test_split\n",
    "from sklearn.preprocessing import StandardScaler, OneHotEncoder\n",
    "from sklearn.compose import ColumnTransformer\n",
    "from sklearn.pipeline import Pipeline\n",
    "\n",
    "df = full_df[['MONTH', 'DAY_OF_MONTH', 'DAY_OF_WEEK', 'UNIQUE_CARRIER', 'ORIGIN', 'DEST', 'DISTANCE', 'CRS_DEP_TIME', 'CRS_ARR_TIME', 'CRS_ELAPSED_TIME', 'ARR_DELAY_NEW']]\n",
    "\n",
    "df['ARR_DELAY_NEW'] = df['ARR_DELAY_NEW'].apply(lambda x: 1 if x > 0 else 0)\n",
    "\n",
    "X = df.drop('ARR_DELAY_NEW', axis=1)\n",
    "y = df['ARR_DELAY_NEW']\n",
    "\n",
    "num_cols = ['MONTH', 'DAY_OF_MONTH', 'DAY_OF_WEEK', 'DISTANCE', 'CRS_DEP_TIME', 'CRS_ARR_TIME', 'CRS_ELAPSED_TIME']\n",
    "cat_cols = ['UNIQUE_CARRIER', 'ORIGIN', 'DEST']\n",
    "\n",
    "preprocessor = ColumnTransformer(\n",
    "    transformers=[\n",
    "        ('num', StandardScaler(), num_cols),\n",
    "        ('cat', OneHotEncoder(handle_unknown='ignore'), cat_cols)\n",
    "    ])\n",
    "\n",
    "model_pipeline = Pipeline(steps=[\n",
    "    ('preprocessor', preprocessor),\n",
    "    ('classifier', LogisticRegression(max_iter=1000))\n",
    "])\n",
    "\n",
    "X_train, X_test, y_train, y_test = train_test_split(X, y, test_size=0.2, random_state=42)\n",
    "\n",
    "model_pipeline.fit(X_train, y_train)\n",
    "\n",
    "joblib.dump(model_pipeline, 'logistic_model.joblib')\n"
   ]
  },
  {
   "cell_type": "code",
   "execution_count": null,
   "id": "ecbb0e15",
   "metadata": {},
   "outputs": [],
   "source": []
  }
 ],
 "metadata": {
  "kernelspec": {
   "display_name": "Python 3 (ipykernel)",
   "language": "python",
   "name": "python3"
  },
  "language_info": {
   "codemirror_mode": {
    "name": "ipython",
    "version": 3
   },
   "file_extension": ".py",
   "mimetype": "text/x-python",
   "name": "python",
   "nbconvert_exporter": "python",
   "pygments_lexer": "ipython3",
   "version": "3.10.6"
  },
  "toc": {
   "base_numbering": 1,
   "nav_menu": {},
   "number_sections": true,
   "sideBar": true,
   "skip_h1_title": false,
   "title_cell": "Table of Contents",
   "title_sidebar": "Contents",
   "toc_cell": false,
   "toc_position": {},
   "toc_section_display": true,
   "toc_window_display": false
  }
 },
 "nbformat": 4,
 "nbformat_minor": 5
}
